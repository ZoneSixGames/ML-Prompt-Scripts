{
  "nbformat": 4,
  "nbformat_minor": 0,
  "metadata": {
    "colab": {
      "provenance": [],
      "collapsed_sections": [],
      "include_colab_link": true
    },
    "kernelspec": {
      "name": "python3",
      "display_name": "Python 3"
    },
    "language_info": {
      "name": "python"
    }
  },
  "cells": [
    {
      "cell_type": "markdown",
      "metadata": {
        "id": "view-in-github",
        "colab_type": "text"
      },
      "source": [
        "<a href=\"https://colab.research.google.com/github/ZoneSixGames/ML-Prompt-Scripts/blob/main/MadLib_Prompt_Generator_by_remi_durant.ipynb\" target=\"_parent\"><img src=\"https://colab.research.google.com/assets/colab-badge.svg\" alt=\"Open In Colab\"/></a>"
      ]
    },
    {
      "cell_type": "markdown",
      "source": [
        "# Mad-libbed Prompt Generator\n",
        "by [@remi_durant](https://twitter.com/remi_durant)\n",
        "\n",
        "Module to easily make random mad-lib style prompts in any AI art notebook.\n",
        "\n",
        "![visitors](https://visitor-badge.glitch.me/badge?page_id=remi_madlibbing)"
      ],
      "metadata": {
        "id": "XU4q7pkZ6oTN"
      }
    },
    {
      "cell_type": "code",
      "execution_count": null,
      "metadata": {
        "id": "_6wtfRfr6jM3"
      },
      "outputs": [],
      "source": [
        "#@title Madlibbed Prompt Generator Module (Simple)\n",
        "#@markdown Pass in a madlib style prompt and a lookup dictionary to get a random prompt\n",
        "#@markdown \n",
        "#@markdown -----------------\n",
        "#@markdown Function Options\n",
        "#@markdown - `avoid_repeats` : When picking words to fill the mad lib slots, should repeats be avoided?\n",
        "#@markdown - `fix_indefinite_articles` : When filling mad libs, should a A/An prior to the slot be fixed up?\n",
        "#@markdown \n",
        "#@markdown <font size=\"2\">*Madlib Prompt Module by [@remi_durant](https://twitter.com/remi_durant)*</font>\n",
        "\n",
        "import re\n",
        "import random\n",
        "\n",
        "def madlib_prompt(base, lookup = {},\n",
        "        options = { \n",
        "            \"avoid_repeats\" : True, \n",
        "            \"fix_indefinite_articles\" : True \n",
        "        }):\n",
        "    lookup_cardstack = {}\n",
        "\n",
        "    def on_madlib_sub( match ):\n",
        "        opt = match.group(2).split('|')\n",
        "\n",
        "        key = opt[0]\n",
        "\n",
        "        # do a lookup if there's only one option in the brackets\n",
        "        if len(opt) == 1 and lookup.get(key):\n",
        "\n",
        "            # discard used words to avoid repeats, unless no words remain\n",
        "            if options[\"avoid_repeats\"]:\n",
        "\n",
        "                if len(lookup_cardstack.get(key) or []) == 0:\n",
        "                    lookup_cardstack[key] = copy.copy( lookup[key] )\n",
        "\n",
        "                g2 = random.choice( lookup_cardstack[key] )\n",
        "                lookup_cardstack[key].remove(g2)\n",
        "\n",
        "               \n",
        "            else:\n",
        "                g2 = random.choice( lookup.get(key) )\n",
        "\n",
        "        # choose one of the options to fill this space\n",
        "        else:\n",
        "            g2 = random.choice( opt )\n",
        "\n",
        "        # if the previous word is 'A' or 'An', figure out if the 'n' is needed\n",
        "        g1 = match.group(1)\n",
        "        if g1 is not None:\n",
        "            if options[\"fix_indefinite_articles\"]:\n",
        "                if g2[0].lower() in list(\"aeiou\"):\n",
        "                    g1 = g1[0] + 'n'\n",
        "                else:\n",
        "                    g1 = g1[0]\n",
        "            g2 = g1 + ' ' + g2\n",
        "        \n",
        "        return g2\n",
        "    \n",
        "    # find madlib spots, and replace\n",
        "    return re.sub(r\"(\\b[Aa]n? )?{([^{}]*)}\", on_madlib_sub, base )\n"
      ]
    },
    {
      "cell_type": "markdown",
      "source": [
        "When writing your base prompt, there are two mad-lib style features you can use:\n",
        "\n",
        "### In-Place Alternates\n",
        " You can put alternate options within brackets split by pipes and it will pick one at random. \n",
        " "
      ],
      "metadata": {
        "id": "WmmEOpPH7oyS"
      }
    },
    {
      "cell_type": "code",
      "source": [
        "madlib_prompt( '{red|blue} car' )"
      ],
      "metadata": {
        "colab": {
          "base_uri": "https://localhost:8080/",
          "height": 35
        },
        "id": "CwFPNpOV9t08",
        "outputId": "b8a1ae39-6730-4bec-f889-54c018f90979"
      },
      "execution_count": null,
      "outputs": [
        {
          "output_type": "execute_result",
          "data": {
            "application/vnd.google.colaboratory.intrinsic+json": {
              "type": "string"
            },
            "text/plain": [
              "'blue car'"
            ]
          },
          "metadata": {},
          "execution_count": 87
        }
      ]
    },
    {
      "cell_type": "markdown",
      "source": [
        "### Lookup Alternates\n",
        "You can also specify a key to look for in a passed in lookup table. "
      ],
      "metadata": {
        "id": "YnQl02IY9ujR"
      }
    },
    {
      "cell_type": "code",
      "source": [
        "madlib_prompt( '{color} car', {\n",
        "    'color': ['red','blue','white','orange','green','purple'] \n",
        "} )"
      ],
      "metadata": {
        "colab": {
          "base_uri": "https://localhost:8080/",
          "height": 35
        },
        "id": "sDwMBBYw9md4",
        "outputId": "12c0765b-aff5-4d33-a48d-b2f852f461d6"
      },
      "execution_count": null,
      "outputs": [
        {
          "output_type": "execute_result",
          "data": {
            "application/vnd.google.colaboratory.intrinsic+json": {
              "type": "string"
            },
            "text/plain": [
              "'purple car'"
            ]
          },
          "metadata": {},
          "execution_count": 88
        }
      ]
    },
    {
      "cell_type": "markdown",
      "source": [
        "This way you can create a lot more diversity in the prompt without the base prompt becoming unmaneagable.\n",
        "\n",
        "### Combining\n",
        "You can use both techniques in the same prompt to make much more complicated random prompts."
      ],
      "metadata": {
        "id": "8dwnDrJX9qLO"
      }
    },
    {
      "cell_type": "code",
      "source": [
        "ml_prompt = \"A {something} Garden by {Greg Rutkowski|James Gurney}\" \n",
        "ml_lookup =  {\n",
        "     'something': ['Enchanted','Forbidden','Exotic','Vivid'] \n",
        "}\n",
        "\n",
        "for i in range(5):\n",
        "    print( madlib_prompt( ml_prompt, ml_lookup ) )"
      ],
      "metadata": {
        "colab": {
          "base_uri": "https://localhost:8080/"
        },
        "id": "PAUgk8cr9iwC",
        "outputId": "c0c55a68-87e9-4b64-9244-c08fdcc17190"
      },
      "execution_count": null,
      "outputs": [
        {
          "output_type": "stream",
          "name": "stdout",
          "text": [
            "A Forbidden Garden by James Gurney\n",
            "An Exotic Garden by Greg Rutkowski\n",
            "A Vivid Garden by Greg Rutkowski\n",
            "An Exotic Garden by James Gurney\n",
            "An Enchanted Garden by James Gurney\n"
          ]
        }
      ]
    },
    {
      "cell_type": "markdown",
      "source": [
        "You can see in this example how it also automatically converts A/An to the appropriate one for the prompt, based on if the mad lib word starts with a vowel. This isn't technically correct, but it covers most of the normal words."
      ],
      "metadata": {
        "id": "DHNVXiT9_c1c"
      }
    },
    {
      "cell_type": "markdown",
      "source": [
        "## Advanced Mode"
      ],
      "metadata": {
        "id": "1WxIfeKEBN5J"
      }
    },
    {
      "cell_type": "code",
      "source": [
        "#@title Madlibbed Prompt Generator Module (Advanced)\n",
        "#@markdown Pass in an array of templates, and a lookup dictionary.\n",
        "#@markdown \n",
        "#@markdown -----------------\n",
        "#@markdown Function Options\n",
        "#@markdown - `avoid_repeats` : When picking words to fill the mad lib slots, should repeats be avoided?\n",
        "#@markdown - `fix_indefinite_articles` : When filling mad libs, should a A/An prior to the slot be fixed up?\n",
        "#@markdown \n",
        "#@markdown -----------------\n",
        "#@markdown Template parameters\n",
        "#@markdown - `prompt` : the mad lib style template to process\n",
        "#@markdown - `lookup` : any prompt specific madlib lists, or overrides of the global ones\n",
        "#@markdown - `weight` : how much should this template be favored when picking a template\n",
        "#@markdown \n",
        "#@markdown <font size=\"2\">*Madlib Prompt Module by [@remi_durant](https://twitter.com/remi_durant)*</font>\n",
        "\n",
        "\n",
        "import re\n",
        "import random\n",
        "import copy\n",
        "\n",
        "def madlib_template( templates, global_lookup = {}, \n",
        "        options = { \n",
        "            \"avoid_repeats\" : True, \n",
        "            \"fix_indefinite_articles\" : True \n",
        "        }):\n",
        "\n",
        "    # get prompt template weights and pick one\n",
        "    weights = [ p.get('weight') or 1 for p in templates]\n",
        "    t = random.choices( templates, weights=weights, k=1 )[0]\n",
        "    \n",
        "    lookup = { **global_lookup, **(t.get('lookup') or {}) }\n",
        "    lookup_cardstack = {}\n",
        "\n",
        "    def on_madlib_sub( match ):\n",
        "        opt = match.group(2).split('|')\n",
        "\n",
        "        key = opt[0]\n",
        "\n",
        "        # do a lookup if there's only one option in the brackets\n",
        "        if len(opt) == 1 and lookup.get(key):\n",
        "\n",
        "            # discard used words to avoid repeats, unless no words remain\n",
        "            if options[\"avoid_repeats\"]:\n",
        "\n",
        "                if len(lookup_cardstack.get(key) or []) == 0:\n",
        "                    lookup_cardstack[key] = copy.copy( lookup[key] )\n",
        "\n",
        "                g2 = random.choice( lookup_cardstack[key] )\n",
        "                lookup_cardstack[key].remove(g2)\n",
        "\n",
        "            else:\n",
        "                g2 = random.choice( lookup.get(key) )\n",
        "          \n",
        "        # or just pick one of the given options  \n",
        "        else:\n",
        "            g2 = random.choice( opt )\n",
        "\n",
        "        g1 = match.group(1)\n",
        "        if g1 is not None:\n",
        "\n",
        "            # if the previous word is 'A' or 'An', figure out if the 'n' is needed\n",
        "            if options[\"fix_indefinite_articles\"]:\n",
        "                    if g2[0].lower() in list(\"aeiou\"):\n",
        "                        g1 = g1[0] + 'n'\n",
        "                    else:\n",
        "                        g1 = g1[0]\n",
        "            g2 = g1 + ' ' + g2\n",
        "            \n",
        "        return g2\n",
        "    \n",
        "    # find madlib spots, and replace\n",
        "    return re.sub(r\"(\\b[Aa]n? )?{([^{}]*)}\", on_madlib_sub, t['prompt'] )\n"
      ],
      "metadata": {
        "id": "tBGECHWyBP1V"
      },
      "execution_count": null,
      "outputs": []
    },
    {
      "cell_type": "markdown",
      "source": [
        "With the advanced version of this module you can specify multiple prompt templates and give them different weightings and lookup table overrides per base prompt."
      ],
      "metadata": {
        "id": "TbLBJ0dxD9d2"
      }
    },
    {
      "cell_type": "code",
      "source": [
        "ml_templates = [ \n",
        "  { \n",
        "      \"prompt\" : \"A {something}, {something} garden by {James Gurney|Greg Rutkowski}\", \n",
        "      \"lookup\" : {}, \n",
        "      \"weight\":2 # increase the frequency of this prompt\n",
        "  },\n",
        "  {   \n",
        "      \"prompt\" : \"A beautiful {color} {sunrise|sunset} over the {something} {something} garden by {James Gurney|Greg Rutkowski}\", \n",
        "      \"lookup\" : {\n",
        "          \"something\": [\"enchanted\"], # overriding the base set\n",
        "          \"color\" : ['blue','red','purple','pink'] # adding extra data for only this prompt\n",
        "      } \n",
        "  } \n",
        "]\n",
        "ml_lookup = {\n",
        "    \"something\":['vivid','enchanted','forbidden','rotten']\n",
        "}\n",
        "\n",
        "for i in range(5):\n",
        "    print( madlib_template( ml_templates, ml_lookup, options = { \n",
        "        \"avoid_repeats\" : True, \n",
        "        \"fix_indefinite_articles\" : True \n",
        "    } ) )\n"
      ],
      "metadata": {
        "colab": {
          "base_uri": "https://localhost:8080/"
        },
        "id": "a6_OXP_eCL9s",
        "outputId": "526d1749-e7fb-4d90-f4b8-1f8440f1a675"
      },
      "execution_count": null,
      "outputs": [
        {
          "output_type": "stream",
          "name": "stdout",
          "text": [
            "A vivid, forbidden garden by Greg Rutkowski\n",
            "A vivid, rotten garden by James Gurney\n",
            "A beautiful pink sunset over the enchanted enchanted garden by Greg Rutkowski\n",
            "A beautiful blue sunrise over the enchanted enchanted garden by James Gurney\n",
            "A vivid, forbidden garden by Greg Rutkowski\n"
          ]
        }
      ]
    },
    {
      "cell_type": "markdown",
      "source": [
        "## Full Example using some larger Prompt Lists"
      ],
      "metadata": {
        "id": "pNVZtFZAsA4E"
      }
    },
    {
      "cell_type": "code",
      "source": [
        "#@title Download some prompt lists\n",
        "#@markdown These lists were pulled from [Neuralism Prompt Generator](https://colab.research.google.com/drive/1mrlY_mc-HdIxEHILY2BvA9u0mOjD2Ze5#scrollTo=GBRlz7DRueqx).\n",
        "!git clone https://github.com/sanzelda/prompt_gen.git"
      ],
      "metadata": {
        "id": "2RrINAU9sC36",
        "cellView": "form"
      },
      "execution_count": null,
      "outputs": []
    },
    {
      "cell_type": "code",
      "source": [
        "#@title Load prompt lists from text files into a lookup table\n",
        "import os\n",
        "prompt_lookup = [ f.split('.') for f in os.listdir(\"/content/prompt_gen/\") ]\n",
        "prompt_lookup = { f[0] : open(f\"/content/prompt_gen/{f[0]}.txt\").read().splitlines() for f in prompt_lookup if len(f) == 2 and f[1] == \"txt\" }\n",
        "print( prompt_lookup.keys() )"
      ],
      "metadata": {
        "colab": {
          "base_uri": "https://localhost:8080/"
        },
        "id": "Y2sj19Pfu2Ro",
        "outputId": "4a5195de-fae5-409f-c33f-c749d6f42218",
        "cellView": "form"
      },
      "execution_count": null,
      "outputs": [
        {
          "output_type": "stream",
          "name": "stdout",
          "text": [
            "dict_keys(['adjectives', 'suffixes', 'things', 'artists', 'shapes', 'locations', 'animals', 'colors'])\n"
          ]
        }
      ]
    },
    {
      "cell_type": "code",
      "source": [
        "#@title Make some prompts!\n",
        "ml_templates = [ \n",
        "  { \n",
        "      \"prompt\" : \"A {adjectives} {shapes} {locations} by {artists} and {artists}\", \n",
        "      \"lookup\" : {}, \n",
        "      \"weight\":1 # increase the frequency of this prompt\n",
        "  },\n",
        "  \n",
        "  { \n",
        "      \"prompt\" : \"A {shapes} {animals} in a {adjective} {locations} by {artists} and {artists}\", \n",
        "      \"lookup\" : {}, \n",
        "      \"weight\":1 # increase the frequency of this prompt\n",
        "  }\n",
        "]\n",
        "ml_lookup = {\n",
        "    **prompt_lookup,\n",
        "    \"something\":['vivid','enchanted','forbidden','rotten']\n",
        "}\n",
        "\n",
        "for i in range(5):\n",
        "    print( madlib_template( ml_templates, ml_lookup, options = { \n",
        "        \"avoid_repeats\" : True, \n",
        "        \"fix_indefinite_articles\" : True \n",
        "    } ) )\n"
      ],
      "metadata": {
        "colab": {
          "base_uri": "https://localhost:8080/"
        },
        "id": "NmtHzbiLuGt_",
        "outputId": "324072f7-588f-4615-a88f-95c633f8a041"
      },
      "execution_count": null,
      "outputs": [
        {
          "output_type": "stream",
          "name": "stdout",
          "text": [
            "A technological rhombus universe by Jackson Pollock and Hieronymus Bosch\n",
            "A luminus heights village by Egon Schiele and Mark Rothko\n",
            "A feathers amberjack in an adjective ocean by H.P. Lovecraft and Dan Mumford\n",
            "An octagons chick in an adjective ocean by Pierre-Auguste Renoir and Johannes Vermeer\n",
            "A beads and yarn grouper in an adjective country by Paul Gauguin and Vincent Di Fate\n"
          ]
        }
      ]
    }
  ]
}